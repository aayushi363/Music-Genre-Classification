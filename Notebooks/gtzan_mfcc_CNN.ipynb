{
 "cells": [
  {
   "cell_type": "code",
   "execution_count": null,
   "metadata": {
    "id": "FDETaHOKfY0o"
   },
   "outputs": [],
   "source": []
  },
  {
   "cell_type": "code",
   "execution_count": 1,
   "metadata": {
    "colab": {
     "base_uri": "https://localhost:8080/",
     "height": 35
    },
    "id": "GrJsHMi340EX",
    "outputId": "5b23b375-f8f6-4a65-88bf-b011deaefb2b"
   },
   "outputs": [
    {
     "data": {
      "application/vnd.google.colaboratory.intrinsic+json": {
       "type": "string"
      },
      "text/plain": [
       "'/device:GPU:0'"
      ]
     },
     "execution_count": 1,
     "metadata": {},
     "output_type": "execute_result"
    }
   ],
   "source": [
    "import tensorflow as tf\n",
    "tf.test.gpu_device_name()"
   ]
  },
  {
   "cell_type": "code",
   "execution_count": 2,
   "metadata": {
    "colab": {
     "base_uri": "https://localhost:8080/"
    },
    "id": "6Qtd66YPfbbk",
    "outputId": "799c3335-fe39-46a6-d99f-19c28a68d409"
   },
   "outputs": [
    {
     "name": "stdout",
     "output_type": "stream",
     "text": [
      "Num GPUs Available:  1\n"
     ]
    }
   ],
   "source": [
    "print(\"Num GPUs Available: \", len(tf.config.list_physical_devices('GPU')))"
   ]
  },
  {
   "cell_type": "code",
   "execution_count": 3,
   "metadata": {
    "colab": {
     "base_uri": "https://localhost:8080/"
    },
    "id": "avHbjzSE4-6T",
    "outputId": "ab10c676-1682-4649-db6f-0bb21b06b8a5"
   },
   "outputs": [
    {
     "name": "stdout",
     "output_type": "stream",
     "text": [
      "Drive already mounted at /content/drive; to attempt to forcibly remount, call drive.mount(\"/content/drive\", force_remount=True).\n"
     ]
    }
   ],
   "source": [
    "from google.colab import drive\n",
    "drive.mount(\"/content/drive\")"
   ]
  },
  {
   "cell_type": "markdown",
   "metadata": {
    "id": "SW4TrconfkzX"
   },
   "source": [
    "# New Section"
   ]
  },
  {
   "cell_type": "code",
   "execution_count": 4,
   "metadata": {
    "id": "wMaA-8Py5BfL"
   },
   "outputs": [],
   "source": [
    "import json\n",
    "import numpy as np\n",
    "from sklearn.model_selection import train_test_split\n",
    "\n",
    "from tensorflow.keras.models import Sequential\n",
    "from tensorflow.keras.layers import Dense, Dropout, Flatten,Conv2D,MaxPool2D,BatchNormalization\n",
    "from tensorflow.keras.optimizers import Adam\n",
    "from tensorflow.keras.regularizers import l1_l2,l2\n",
    "\n",
    "with open('gtzan_mfcc.json', \"r\") as file:\n",
    "    data = json.load(file) #Load MFCC dataset from JSON file\n",
    "\n",
    "X = np.array(data[\"mfcc\"]) #Load MFCCs \n",
    "y = np.array(data[\"labels\"]) #Load corresponding genre names\n",
    "\n",
    "\n",
    "\n",
    "X_train, X_test, y_train, y_test = train_test_split(X, y, test_size=0.2,random_state=0) #Splitting data into random training and test sets\n"
   ]
  },
  {
   "cell_type": "code",
   "execution_count": 5,
   "metadata": {
    "id": "_8uXlP-d5fS-"
   },
   "outputs": [],
   "source": [
    "X_train = X_train[..., np.newaxis] #Increase dimension of array by one\n",
    "X_test = X_test[..., np.newaxis] #Increase dimension of array by one\n"
   ]
  },
  {
   "cell_type": "code",
   "execution_count": 6,
   "metadata": {
    "id": "s-wfJYZN5n8v"
   },
   "outputs": [],
   "source": [
    "from keras.callbacks import ReduceLROnPlateau\n",
    "rlrop = ReduceLROnPlateau(monitor='val_accuracy', factor=0.1, patience=4) #Reduce learning rate when a metric has stopped improving\n",
    "\n",
    "model = Sequential() #Initializing a sequential model\n",
    "\n",
    "\n",
    "model.add(Conv2D(256,kernel_size=(5,5),input_shape=(X_train.shape[1],X_train.shape[2],1),padding='same',kernel_initializer='he_uniform')) #Add a 2D convolution layer\n",
    "model.add(BatchNormalization()) #Add a layer to normalize the inputs\n",
    "model.add(MaxPool2D(pool_size=(2,2))) #Add a layer for max pooling operation on 2D spatial data\n",
    "\n",
    "model.add(Conv2D(128, kernel_size = (5,5),activation ='relu',padding='same', kernel_initializer='he_uniform')) #Add a 2D convolution layer\n",
    "model.add(BatchNormalization()) #Add a layer to normalize the inputs\n",
    "model.add(MaxPool2D(pool_size=(2,2))) #Add a layer for max pooling operation on 2D spatial data\n",
    "\n",
    "\n",
    "model.add(Conv2D(64, kernel_size = (5,5),activation ='relu',padding='same', kernel_initializer='he_uniform')) #Add a 2D convolution layer\n",
    "model.add(BatchNormalization()) #Add a layer to normalize the inputs\n",
    "model.add(MaxPool2D(pool_size=(2,2))) #Add a layer for max pooling operation on 2D spatial data\n",
    "\n",
    "\n",
    "model.add(Flatten()) #Flattens the input vector\n",
    "\n",
    "\n",
    "model.add(Dense(128, activation = \"relu\", kernel_initializer='he_uniform')) #Add a densely connected layer to the neural network\n",
    "model.add(BatchNormalization()) #Add a layer to normalize the inputs\n",
    "model.add(Dropout(0.2)) #Add dropout to inputs to avoid overfitting \n",
    "\n",
    "\n",
    "model.add(Dense(64, activation = \"relu\", kernel_initializer='he_uniform')) #Add a densely connected layer to the neural network\n",
    "model.add(BatchNormalization()) #Add a layer to normalize the inputs\n",
    "model.add(Dropout(0.2)) #Add dropout to inputs to avoid overfitting \n",
    "\n",
    "\n",
    "model.add(Dense(10, activation = \"softmax\")) #Add a densely connected output layer to the neural network"
   ]
  },
  {
   "cell_type": "code",
   "execution_count": 7,
   "metadata": {
    "id": "QutpyT5e5sEu"
   },
   "outputs": [],
   "source": [
    "optimiser = Adam(learning_rate=0.001) #Initialize Adam optimizer for training\n",
    "model.compile(optimizer=optimiser,loss='sparse_categorical_crossentropy',metrics=['accuracy']) #Configures the model for training"
   ]
  },
  {
   "cell_type": "code",
   "execution_count": 8,
   "metadata": {
    "colab": {
     "base_uri": "https://localhost:8080/"
    },
    "id": "kclm-Iy95uOd",
    "outputId": "4752ad84-a2c3-47d3-d69c-78f5a28490de"
   },
   "outputs": [
    {
     "name": "stdout",
     "output_type": "stream",
     "text": [
      "Model: \"sequential\"\n",
      "_________________________________________________________________\n",
      " Layer (type)                Output Shape              Param #   \n",
      "=================================================================\n",
      " conv2d (Conv2D)             (None, 130, 13, 256)      6656      \n",
      "                                                                 \n",
      " batch_normalization (BatchN  (None, 130, 13, 256)     1024      \n",
      " ormalization)                                                   \n",
      "                                                                 \n",
      " max_pooling2d (MaxPooling2D  (None, 65, 6, 256)       0         \n",
      " )                                                               \n",
      "                                                                 \n",
      " conv2d_1 (Conv2D)           (None, 65, 6, 128)        819328    \n",
      "                                                                 \n",
      " batch_normalization_1 (Batc  (None, 65, 6, 128)       512       \n",
      " hNormalization)                                                 \n",
      "                                                                 \n",
      " max_pooling2d_1 (MaxPooling  (None, 32, 3, 128)       0         \n",
      " 2D)                                                             \n",
      "                                                                 \n",
      " conv2d_2 (Conv2D)           (None, 32, 3, 64)         204864    \n",
      "                                                                 \n",
      " batch_normalization_2 (Batc  (None, 32, 3, 64)        256       \n",
      " hNormalization)                                                 \n",
      "                                                                 \n",
      " max_pooling2d_2 (MaxPooling  (None, 16, 1, 64)        0         \n",
      " 2D)                                                             \n",
      "                                                                 \n",
      " flatten (Flatten)           (None, 1024)              0         \n",
      "                                                                 \n",
      " dense (Dense)               (None, 128)               131200    \n",
      "                                                                 \n",
      " batch_normalization_3 (Batc  (None, 128)              512       \n",
      " hNormalization)                                                 \n",
      "                                                                 \n",
      " dropout (Dropout)           (None, 128)               0         \n",
      "                                                                 \n",
      " dense_1 (Dense)             (None, 64)                8256      \n",
      "                                                                 \n",
      " batch_normalization_4 (Batc  (None, 64)               256       \n",
      " hNormalization)                                                 \n",
      "                                                                 \n",
      " dropout_1 (Dropout)         (None, 64)                0         \n",
      "                                                                 \n",
      " dense_2 (Dense)             (None, 10)                650       \n",
      "                                                                 \n",
      "=================================================================\n",
      "Total params: 1,173,514\n",
      "Trainable params: 1,172,234\n",
      "Non-trainable params: 1,280\n",
      "_________________________________________________________________\n"
     ]
    }
   ],
   "source": [
    "model.summary() #Prints a string summary of the network"
   ]
  },
  {
   "cell_type": "code",
   "execution_count": 9,
   "metadata": {
    "colab": {
     "base_uri": "https://localhost:8080/"
    },
    "id": "amNaWanw5vzg",
    "outputId": "30bd29e1-df5b-439f-a4d4-23c1ef17ca05"
   },
   "outputs": [
    {
     "name": "stdout",
     "output_type": "stream",
     "text": [
      "Epoch 1/100\n",
      "1000/1000 - 12s - loss: 1.9769 - accuracy: 0.3115 - val_loss: 1.6627 - val_accuracy: 0.3930 - lr: 0.0010 - 12s/epoch - 12ms/step\n",
      "Epoch 2/100\n",
      "1000/1000 - 8s - loss: 1.6075 - accuracy: 0.4195 - val_loss: 1.3658 - val_accuracy: 0.5055 - lr: 0.0010 - 8s/epoch - 8ms/step\n",
      "Epoch 3/100\n",
      "1000/1000 - 8s - loss: 1.4021 - accuracy: 0.5095 - val_loss: 1.4945 - val_accuracy: 0.4720 - lr: 0.0010 - 8s/epoch - 8ms/step\n",
      "Epoch 4/100\n",
      "1000/1000 - 9s - loss: 1.2788 - accuracy: 0.5574 - val_loss: 1.0388 - val_accuracy: 0.6360 - lr: 0.0010 - 9s/epoch - 9ms/step\n",
      "Epoch 5/100\n",
      "1000/1000 - 9s - loss: 1.1245 - accuracy: 0.6151 - val_loss: 1.2154 - val_accuracy: 0.5860 - lr: 0.0010 - 9s/epoch - 9ms/step\n",
      "Epoch 6/100\n",
      "1000/1000 - 8s - loss: 1.0238 - accuracy: 0.6531 - val_loss: 0.8879 - val_accuracy: 0.6895 - lr: 0.0010 - 8s/epoch - 8ms/step\n",
      "Epoch 7/100\n",
      "1000/1000 - 9s - loss: 0.9440 - accuracy: 0.6851 - val_loss: 1.1527 - val_accuracy: 0.6235 - lr: 0.0010 - 9s/epoch - 9ms/step\n",
      "Epoch 8/100\n",
      "1000/1000 - 8s - loss: 0.8291 - accuracy: 0.7214 - val_loss: 1.0424 - val_accuracy: 0.6735 - lr: 0.0010 - 8s/epoch - 8ms/step\n",
      "Epoch 9/100\n",
      "1000/1000 - 9s - loss: 0.7832 - accuracy: 0.7344 - val_loss: 0.9796 - val_accuracy: 0.7205 - lr: 0.0010 - 9s/epoch - 9ms/step\n",
      "Epoch 10/100\n",
      "1000/1000 - 8s - loss: 0.6907 - accuracy: 0.7689 - val_loss: 0.7394 - val_accuracy: 0.7600 - lr: 0.0010 - 8s/epoch - 8ms/step\n",
      "Epoch 11/100\n",
      "1000/1000 - 8s - loss: 0.6011 - accuracy: 0.8009 - val_loss: 0.6159 - val_accuracy: 0.8005 - lr: 0.0010 - 8s/epoch - 8ms/step\n",
      "Epoch 12/100\n",
      "1000/1000 - 8s - loss: 0.5738 - accuracy: 0.8144 - val_loss: 0.7195 - val_accuracy: 0.7980 - lr: 0.0010 - 8s/epoch - 8ms/step\n",
      "Epoch 13/100\n",
      "1000/1000 - 8s - loss: 0.4982 - accuracy: 0.8344 - val_loss: 0.5936 - val_accuracy: 0.8060 - lr: 0.0010 - 8s/epoch - 8ms/step\n",
      "Epoch 14/100\n",
      "1000/1000 - 8s - loss: 0.4453 - accuracy: 0.8562 - val_loss: 0.7518 - val_accuracy: 0.8105 - lr: 0.0010 - 8s/epoch - 8ms/step\n",
      "Epoch 15/100\n",
      "1000/1000 - 8s - loss: 0.3986 - accuracy: 0.8666 - val_loss: 0.5858 - val_accuracy: 0.8335 - lr: 0.0010 - 8s/epoch - 8ms/step\n",
      "Epoch 16/100\n",
      "1000/1000 - 8s - loss: 0.3597 - accuracy: 0.8829 - val_loss: 0.5386 - val_accuracy: 0.8355 - lr: 0.0010 - 8s/epoch - 8ms/step\n",
      "Epoch 17/100\n",
      "1000/1000 - 8s - loss: 0.3361 - accuracy: 0.8886 - val_loss: 0.5749 - val_accuracy: 0.8300 - lr: 0.0010 - 8s/epoch - 8ms/step\n",
      "Epoch 18/100\n",
      "1000/1000 - 8s - loss: 0.2883 - accuracy: 0.9040 - val_loss: 0.5312 - val_accuracy: 0.8415 - lr: 0.0010 - 8s/epoch - 8ms/step\n",
      "Epoch 19/100\n",
      "1000/1000 - 9s - loss: 0.2641 - accuracy: 0.9155 - val_loss: 0.6470 - val_accuracy: 0.8220 - lr: 0.0010 - 9s/epoch - 9ms/step\n",
      "Epoch 20/100\n",
      "1000/1000 - 8s - loss: 0.2383 - accuracy: 0.9198 - val_loss: 0.5253 - val_accuracy: 0.8500 - lr: 0.0010 - 8s/epoch - 8ms/step\n",
      "Epoch 21/100\n",
      "1000/1000 - 9s - loss: 0.2340 - accuracy: 0.9250 - val_loss: 0.6088 - val_accuracy: 0.8360 - lr: 0.0010 - 9s/epoch - 9ms/step\n",
      "Epoch 22/100\n",
      "1000/1000 - 8s - loss: 0.2059 - accuracy: 0.9310 - val_loss: 0.6025 - val_accuracy: 0.8355 - lr: 0.0010 - 8s/epoch - 8ms/step\n",
      "Epoch 23/100\n",
      "1000/1000 - 8s - loss: 0.2326 - accuracy: 0.9228 - val_loss: 0.5602 - val_accuracy: 0.8415 - lr: 0.0010 - 8s/epoch - 8ms/step\n",
      "Epoch 24/100\n",
      "1000/1000 - 8s - loss: 0.2179 - accuracy: 0.9288 - val_loss: 0.7237 - val_accuracy: 0.8170 - lr: 0.0010 - 8s/epoch - 8ms/step\n",
      "Epoch 25/100\n",
      "1000/1000 - 8s - loss: 0.1537 - accuracy: 0.9537 - val_loss: 0.5204 - val_accuracy: 0.8680 - lr: 1.0000e-04 - 8s/epoch - 8ms/step\n",
      "Epoch 26/100\n",
      "1000/1000 - 8s - loss: 0.1145 - accuracy: 0.9635 - val_loss: 0.4809 - val_accuracy: 0.8710 - lr: 1.0000e-04 - 8s/epoch - 8ms/step\n",
      "Epoch 27/100\n",
      "1000/1000 - 8s - loss: 0.0950 - accuracy: 0.9699 - val_loss: 0.4736 - val_accuracy: 0.8695 - lr: 1.0000e-04 - 8s/epoch - 8ms/step\n",
      "Epoch 28/100\n",
      "1000/1000 - 8s - loss: 0.0778 - accuracy: 0.9754 - val_loss: 0.4513 - val_accuracy: 0.8745 - lr: 1.0000e-04 - 8s/epoch - 8ms/step\n",
      "Epoch 29/100\n",
      "1000/1000 - 8s - loss: 0.0761 - accuracy: 0.9759 - val_loss: 0.4514 - val_accuracy: 0.8755 - lr: 1.0000e-04 - 8s/epoch - 8ms/step\n",
      "Epoch 30/100\n",
      "1000/1000 - 8s - loss: 0.0711 - accuracy: 0.9801 - val_loss: 0.4433 - val_accuracy: 0.8810 - lr: 1.0000e-04 - 8s/epoch - 8ms/step\n",
      "Epoch 31/100\n",
      "1000/1000 - 8s - loss: 0.0571 - accuracy: 0.9846 - val_loss: 0.4525 - val_accuracy: 0.8765 - lr: 1.0000e-04 - 8s/epoch - 8ms/step\n",
      "Epoch 32/100\n",
      "1000/1000 - 8s - loss: 0.0593 - accuracy: 0.9820 - val_loss: 0.4411 - val_accuracy: 0.8785 - lr: 1.0000e-04 - 8s/epoch - 8ms/step\n",
      "Epoch 33/100\n",
      "1000/1000 - 8s - loss: 0.0563 - accuracy: 0.9826 - val_loss: 0.4793 - val_accuracy: 0.8785 - lr: 1.0000e-04 - 8s/epoch - 8ms/step\n",
      "Epoch 34/100\n",
      "1000/1000 - 8s - loss: 0.0545 - accuracy: 0.9842 - val_loss: 0.4475 - val_accuracy: 0.8800 - lr: 1.0000e-04 - 8s/epoch - 8ms/step\n",
      "Epoch 35/100\n",
      "1000/1000 - 8s - loss: 0.0531 - accuracy: 0.9835 - val_loss: 0.4646 - val_accuracy: 0.8755 - lr: 1.0000e-05 - 8s/epoch - 8ms/step\n",
      "Epoch 36/100\n",
      "1000/1000 - 8s - loss: 0.0483 - accuracy: 0.9862 - val_loss: 0.4403 - val_accuracy: 0.8750 - lr: 1.0000e-05 - 8s/epoch - 8ms/step\n",
      "Epoch 37/100\n",
      "1000/1000 - 8s - loss: 0.0547 - accuracy: 0.9835 - val_loss: 0.4624 - val_accuracy: 0.8790 - lr: 1.0000e-05 - 8s/epoch - 8ms/step\n",
      "Epoch 38/100\n",
      "1000/1000 - 8s - loss: 0.0503 - accuracy: 0.9851 - val_loss: 0.4342 - val_accuracy: 0.8795 - lr: 1.0000e-05 - 8s/epoch - 8ms/step\n",
      "Epoch 39/100\n",
      "1000/1000 - 8s - loss: 0.0461 - accuracy: 0.9870 - val_loss: 0.4405 - val_accuracy: 0.8780 - lr: 1.0000e-06 - 8s/epoch - 8ms/step\n",
      "Epoch 40/100\n",
      "1000/1000 - 8s - loss: 0.0537 - accuracy: 0.9852 - val_loss: 0.4307 - val_accuracy: 0.8805 - lr: 1.0000e-06 - 8s/epoch - 8ms/step\n",
      "Epoch 41/100\n",
      "1000/1000 - 8s - loss: 0.0493 - accuracy: 0.9856 - val_loss: 0.4477 - val_accuracy: 0.8800 - lr: 1.0000e-06 - 8s/epoch - 8ms/step\n",
      "Epoch 42/100\n",
      "1000/1000 - 8s - loss: 0.0480 - accuracy: 0.9860 - val_loss: 0.4298 - val_accuracy: 0.8775 - lr: 1.0000e-06 - 8s/epoch - 8ms/step\n",
      "Epoch 43/100\n",
      "1000/1000 - 8s - loss: 0.0424 - accuracy: 0.9874 - val_loss: 0.4520 - val_accuracy: 0.8775 - lr: 1.0000e-07 - 8s/epoch - 8ms/step\n",
      "Epoch 44/100\n",
      "1000/1000 - 8s - loss: 0.0490 - accuracy: 0.9867 - val_loss: 0.4457 - val_accuracy: 0.8805 - lr: 1.0000e-07 - 8s/epoch - 8ms/step\n",
      "Epoch 45/100\n",
      "1000/1000 - 8s - loss: 0.0419 - accuracy: 0.9871 - val_loss: 0.4343 - val_accuracy: 0.8810 - lr: 1.0000e-07 - 8s/epoch - 8ms/step\n",
      "Epoch 46/100\n",
      "1000/1000 - 8s - loss: 0.0437 - accuracy: 0.9861 - val_loss: 0.4362 - val_accuracy: 0.8760 - lr: 1.0000e-07 - 8s/epoch - 8ms/step\n",
      "Epoch 47/100\n",
      "1000/1000 - 8s - loss: 0.0434 - accuracy: 0.9876 - val_loss: 0.4522 - val_accuracy: 0.8755 - lr: 1.0000e-08 - 8s/epoch - 8ms/step\n",
      "Epoch 48/100\n",
      "1000/1000 - 8s - loss: 0.0488 - accuracy: 0.9860 - val_loss: 0.4431 - val_accuracy: 0.8780 - lr: 1.0000e-08 - 8s/epoch - 8ms/step\n",
      "Epoch 49/100\n",
      "1000/1000 - 8s - loss: 0.0416 - accuracy: 0.9871 - val_loss: 0.4345 - val_accuracy: 0.8795 - lr: 1.0000e-08 - 8s/epoch - 8ms/step\n",
      "Epoch 50/100\n",
      "1000/1000 - 8s - loss: 0.0454 - accuracy: 0.9867 - val_loss: 0.4563 - val_accuracy: 0.8815 - lr: 1.0000e-08 - 8s/epoch - 8ms/step\n",
      "Epoch 51/100\n",
      "1000/1000 - 8s - loss: 0.0535 - accuracy: 0.9832 - val_loss: 0.4456 - val_accuracy: 0.8805 - lr: 1.0000e-08 - 8s/epoch - 8ms/step\n",
      "Epoch 52/100\n",
      "1000/1000 - 8s - loss: 0.0463 - accuracy: 0.9871 - val_loss: 0.4639 - val_accuracy: 0.8760 - lr: 1.0000e-08 - 8s/epoch - 8ms/step\n",
      "Epoch 53/100\n",
      "1000/1000 - 8s - loss: 0.0472 - accuracy: 0.9872 - val_loss: 0.4395 - val_accuracy: 0.8785 - lr: 1.0000e-08 - 8s/epoch - 8ms/step\n",
      "Epoch 54/100\n",
      "1000/1000 - 8s - loss: 0.0404 - accuracy: 0.9890 - val_loss: 0.4427 - val_accuracy: 0.8800 - lr: 1.0000e-08 - 8s/epoch - 8ms/step\n",
      "Epoch 55/100\n",
      "1000/1000 - 8s - loss: 0.0447 - accuracy: 0.9879 - val_loss: 0.4385 - val_accuracy: 0.8790 - lr: 1.0000e-09 - 8s/epoch - 8ms/step\n",
      "Epoch 56/100\n",
      "1000/1000 - 8s - loss: 0.0477 - accuracy: 0.9859 - val_loss: 0.4388 - val_accuracy: 0.8785 - lr: 1.0000e-09 - 8s/epoch - 8ms/step\n",
      "Epoch 57/100\n",
      "1000/1000 - 8s - loss: 0.0475 - accuracy: 0.9867 - val_loss: 0.4414 - val_accuracy: 0.8805 - lr: 1.0000e-09 - 8s/epoch - 8ms/step\n",
      "Epoch 58/100\n",
      "1000/1000 - 8s - loss: 0.0468 - accuracy: 0.9871 - val_loss: 0.4435 - val_accuracy: 0.8775 - lr: 1.0000e-09 - 8s/epoch - 8ms/step\n",
      "Epoch 59/100\n",
      "1000/1000 - 8s - loss: 0.0452 - accuracy: 0.9870 - val_loss: 0.4503 - val_accuracy: 0.8790 - lr: 1.0000e-10 - 8s/epoch - 8ms/step\n",
      "Epoch 60/100\n",
      "1000/1000 - 9s - loss: 0.0491 - accuracy: 0.9870 - val_loss: 0.4460 - val_accuracy: 0.8795 - lr: 1.0000e-10 - 9s/epoch - 9ms/step\n",
      "Epoch 61/100\n",
      "1000/1000 - 8s - loss: 0.0442 - accuracy: 0.9869 - val_loss: 0.4396 - val_accuracy: 0.8790 - lr: 1.0000e-10 - 8s/epoch - 8ms/step\n",
      "Epoch 62/100\n",
      "1000/1000 - 8s - loss: 0.0435 - accuracy: 0.9869 - val_loss: 0.4409 - val_accuracy: 0.8790 - lr: 1.0000e-10 - 8s/epoch - 8ms/step\n",
      "Epoch 63/100\n",
      "1000/1000 - 8s - loss: 0.0478 - accuracy: 0.9855 - val_loss: 0.4425 - val_accuracy: 0.8795 - lr: 1.0000e-11 - 8s/epoch - 8ms/step\n",
      "Epoch 64/100\n",
      "1000/1000 - 8s - loss: 0.0487 - accuracy: 0.9861 - val_loss: 0.4409 - val_accuracy: 0.8775 - lr: 1.0000e-11 - 8s/epoch - 8ms/step\n",
      "Epoch 65/100\n",
      "1000/1000 - 8s - loss: 0.0480 - accuracy: 0.9860 - val_loss: 0.4466 - val_accuracy: 0.8785 - lr: 1.0000e-11 - 8s/epoch - 8ms/step\n",
      "Epoch 66/100\n",
      "1000/1000 - 8s - loss: 0.0392 - accuracy: 0.9877 - val_loss: 0.4349 - val_accuracy: 0.8750 - lr: 1.0000e-11 - 8s/epoch - 8ms/step\n",
      "Epoch 67/100\n",
      "1000/1000 - 8s - loss: 0.0477 - accuracy: 0.9862 - val_loss: 0.4333 - val_accuracy: 0.8790 - lr: 1.0000e-12 - 8s/epoch - 8ms/step\n",
      "Epoch 68/100\n",
      "1000/1000 - 8s - loss: 0.0420 - accuracy: 0.9887 - val_loss: 0.4324 - val_accuracy: 0.8765 - lr: 1.0000e-12 - 8s/epoch - 8ms/step\n",
      "Epoch 69/100\n",
      "1000/1000 - 8s - loss: 0.0448 - accuracy: 0.9854 - val_loss: 0.4377 - val_accuracy: 0.8795 - lr: 1.0000e-12 - 8s/epoch - 8ms/step\n",
      "Epoch 70/100\n",
      "1000/1000 - 8s - loss: 0.0410 - accuracy: 0.9885 - val_loss: 0.4382 - val_accuracy: 0.8770 - lr: 1.0000e-12 - 8s/epoch - 8ms/step\n",
      "Epoch 71/100\n",
      "1000/1000 - 8s - loss: 0.0399 - accuracy: 0.9884 - val_loss: 0.4432 - val_accuracy: 0.8790 - lr: 1.0000e-13 - 8s/epoch - 8ms/step\n",
      "Epoch 72/100\n",
      "1000/1000 - 8s - loss: 0.0508 - accuracy: 0.9841 - val_loss: 0.4494 - val_accuracy: 0.8800 - lr: 1.0000e-13 - 8s/epoch - 8ms/step\n",
      "Epoch 73/100\n",
      "1000/1000 - 8s - loss: 0.0510 - accuracy: 0.9854 - val_loss: 0.4395 - val_accuracy: 0.8800 - lr: 1.0000e-13 - 8s/epoch - 8ms/step\n",
      "Epoch 74/100\n",
      "1000/1000 - 8s - loss: 0.0460 - accuracy: 0.9867 - val_loss: 0.4418 - val_accuracy: 0.8780 - lr: 1.0000e-13 - 8s/epoch - 8ms/step\n",
      "Epoch 75/100\n",
      "1000/1000 - 8s - loss: 0.0426 - accuracy: 0.9879 - val_loss: 0.4422 - val_accuracy: 0.8775 - lr: 1.0000e-14 - 8s/epoch - 8ms/step\n",
      "Epoch 76/100\n",
      "1000/1000 - 8s - loss: 0.0472 - accuracy: 0.9862 - val_loss: 0.4400 - val_accuracy: 0.8800 - lr: 1.0000e-14 - 8s/epoch - 8ms/step\n",
      "Epoch 77/100\n",
      "1000/1000 - 8s - loss: 0.0442 - accuracy: 0.9876 - val_loss: 0.4420 - val_accuracy: 0.8795 - lr: 1.0000e-14 - 8s/epoch - 8ms/step\n",
      "Epoch 78/100\n",
      "1000/1000 - 8s - loss: 0.0442 - accuracy: 0.9879 - val_loss: 0.4379 - val_accuracy: 0.8820 - lr: 1.0000e-14 - 8s/epoch - 8ms/step\n",
      "Epoch 79/100\n",
      "1000/1000 - 8s - loss: 0.0452 - accuracy: 0.9884 - val_loss: 0.4398 - val_accuracy: 0.8790 - lr: 1.0000e-14 - 8s/epoch - 8ms/step\n",
      "Epoch 80/100\n",
      "1000/1000 - 9s - loss: 0.0471 - accuracy: 0.9861 - val_loss: 0.4466 - val_accuracy: 0.8810 - lr: 1.0000e-14 - 9s/epoch - 9ms/step\n",
      "Epoch 81/100\n",
      "1000/1000 - 8s - loss: 0.0467 - accuracy: 0.9860 - val_loss: 0.4329 - val_accuracy: 0.8780 - lr: 1.0000e-14 - 8s/epoch - 8ms/step\n",
      "Epoch 82/100\n",
      "1000/1000 - 8s - loss: 0.0469 - accuracy: 0.9855 - val_loss: 0.4384 - val_accuracy: 0.8790 - lr: 1.0000e-14 - 8s/epoch - 8ms/step\n",
      "Epoch 83/100\n",
      "1000/1000 - 8s - loss: 0.0448 - accuracy: 0.9866 - val_loss: 0.4358 - val_accuracy: 0.8790 - lr: 1.0000e-15 - 8s/epoch - 8ms/step\n",
      "Epoch 84/100\n",
      "1000/1000 - 8s - loss: 0.0432 - accuracy: 0.9877 - val_loss: 0.4419 - val_accuracy: 0.8755 - lr: 1.0000e-15 - 8s/epoch - 8ms/step\n",
      "Epoch 85/100\n",
      "1000/1000 - 8s - loss: 0.0478 - accuracy: 0.9849 - val_loss: 0.4356 - val_accuracy: 0.8770 - lr: 1.0000e-15 - 8s/epoch - 8ms/step\n",
      "Epoch 86/100\n",
      "1000/1000 - 8s - loss: 0.0458 - accuracy: 0.9859 - val_loss: 0.4560 - val_accuracy: 0.8790 - lr: 1.0000e-15 - 8s/epoch - 8ms/step\n",
      "Epoch 87/100\n",
      "1000/1000 - 8s - loss: 0.0453 - accuracy: 0.9870 - val_loss: 0.4331 - val_accuracy: 0.8740 - lr: 1.0000e-16 - 8s/epoch - 8ms/step\n",
      "Epoch 88/100\n",
      "1000/1000 - 8s - loss: 0.0447 - accuracy: 0.9879 - val_loss: 0.4327 - val_accuracy: 0.8755 - lr: 1.0000e-16 - 8s/epoch - 8ms/step\n",
      "Epoch 89/100\n",
      "1000/1000 - 8s - loss: 0.0457 - accuracy: 0.9872 - val_loss: 0.4494 - val_accuracy: 0.8760 - lr: 1.0000e-16 - 8s/epoch - 8ms/step\n",
      "Epoch 90/100\n",
      "1000/1000 - 8s - loss: 0.0515 - accuracy: 0.9844 - val_loss: 0.4333 - val_accuracy: 0.8785 - lr: 1.0000e-16 - 8s/epoch - 8ms/step\n",
      "Epoch 91/100\n",
      "1000/1000 - 8s - loss: 0.0434 - accuracy: 0.9864 - val_loss: 0.4456 - val_accuracy: 0.8785 - lr: 1.0000e-17 - 8s/epoch - 8ms/step\n",
      "Epoch 92/100\n",
      "1000/1000 - 9s - loss: 0.0422 - accuracy: 0.9881 - val_loss: 0.4378 - val_accuracy: 0.8785 - lr: 1.0000e-17 - 9s/epoch - 9ms/step\n",
      "Epoch 93/100\n",
      "1000/1000 - 8s - loss: 0.0422 - accuracy: 0.9886 - val_loss: 0.4494 - val_accuracy: 0.8785 - lr: 1.0000e-17 - 8s/epoch - 8ms/step\n",
      "Epoch 94/100\n",
      "1000/1000 - 8s - loss: 0.0408 - accuracy: 0.9887 - val_loss: 0.4368 - val_accuracy: 0.8775 - lr: 1.0000e-17 - 8s/epoch - 8ms/step\n",
      "Epoch 95/100\n",
      "1000/1000 - 8s - loss: 0.0474 - accuracy: 0.9860 - val_loss: 0.4399 - val_accuracy: 0.8795 - lr: 1.0000e-18 - 8s/epoch - 8ms/step\n",
      "Epoch 96/100\n",
      "1000/1000 - 8s - loss: 0.0451 - accuracy: 0.9867 - val_loss: 0.4598 - val_accuracy: 0.8795 - lr: 1.0000e-18 - 8s/epoch - 8ms/step\n",
      "Epoch 97/100\n",
      "1000/1000 - 8s - loss: 0.0482 - accuracy: 0.9856 - val_loss: 0.4429 - val_accuracy: 0.8785 - lr: 1.0000e-18 - 8s/epoch - 8ms/step\n",
      "Epoch 98/100\n",
      "1000/1000 - 8s - loss: 0.0446 - accuracy: 0.9852 - val_loss: 0.4420 - val_accuracy: 0.8780 - lr: 1.0000e-18 - 8s/epoch - 8ms/step\n",
      "Epoch 99/100\n",
      "1000/1000 - 8s - loss: 0.0466 - accuracy: 0.9875 - val_loss: 0.4418 - val_accuracy: 0.8815 - lr: 1.0000e-19 - 8s/epoch - 8ms/step\n",
      "Epoch 100/100\n",
      "1000/1000 - 8s - loss: 0.0450 - accuracy: 0.9869 - val_loss: 0.4423 - val_accuracy: 0.8770 - lr: 1.0000e-19 - 8s/epoch - 8ms/step\n"
     ]
    }
   ],
   "source": [
    "history = model.fit(X_train, y_train, validation_data=(X_test, y_test), batch_size=8, epochs=100,verbose=2,callbacks=[rlrop]) #Trains the model for a fixed number of epochs"
   ]
  },
  {
   "cell_type": "code",
   "execution_count": 10,
   "metadata": {
    "colab": {
     "base_uri": "https://localhost:8080/",
     "height": 539
    },
    "id": "I2cl6LFo5xgY",
    "outputId": "82270f74-3340-4508-9e80-2675a5f84f98"
   },
   "outputs": [
    {
     "data": {
      "image/png": "[encoded data removed]",
      "text/plain": [
       "<Figure size 504x504 with 2 Axes>"
      ]
     },
     "metadata": {
      "needs_background": "light"
     },
     "output_type": "display_data"
    }
   ],
   "source": [
    "import matplotlib.pyplot as plt\n",
    "plt.figure(figsize=(7,7)) #Setting plot dimensions\n",
    "\n",
    "#Plotting training and test accuracy of model\n",
    "plt.subplot(2,1,1)\n",
    "plt.plot(history.history['accuracy'])\n",
    "plt.plot(history.history['val_accuracy'])\n",
    "plt.title('model accuracy')\n",
    "plt.ylabel('accuracy')\n",
    "plt.xlabel('epoch')\n",
    "plt.legend(['train', 'test'], loc='lower right')\n",
    "\n",
    "#Plotting training and test loss of model\n",
    "plt.subplot(2,1,2)\n",
    "plt.plot(history.history['loss'])\n",
    "plt.plot(history.history['val_loss'])\n",
    "plt.title('model loss')\n",
    "plt.ylabel('loss')\n",
    "plt.xlabel('epoch')\n",
    "plt.legend(['train', 'test'], loc='upper right')\n",
    "plt.suptitle('CNN Classification',fontsize=30,y=1.03)\n",
    "plt.tight_layout()\n",
    "plt.show()"
   ]
  },
  {
   "cell_type": "code",
   "execution_count": 11,
   "metadata": {
    "colab": {
     "base_uri": "https://localhost:8080/"
    },
    "id": "icKvRwWz5972",
    "outputId": "5695e715-7583-4bfc-ab6d-5a669f9b842e"
   },
   "outputs": [
    {
     "name": "stdout",
     "output_type": "stream",
     "text": [
      "63/63 [==============================] - 1s 9ms/step\n"
     ]
    }
   ],
   "source": [
    "from sklearn.metrics import classification_report\n",
    "labelNames = ['pop','metal','disco','blues','reggae','classical','rock','hiphop','country','jazz']\n",
    "predictions = model.predict(X_test, batch_size=32) #Use model to predict on the test data"
   ]
  },
  {
   "cell_type": "code",
   "execution_count": 12,
   "metadata": {
    "colab": {
     "base_uri": "https://localhost:8080/",
     "height": 314
    },
    "id": "sr3TZVsb6B8O",
    "outputId": "5a538a17-fc9f-4c51-d145-1ec820acf9d4"
   },
   "outputs": [
    {
     "data": {
      "image/png": "[encoded data removed]",
      "text/plain": [
       "<Figure size 432x288 with 2 Axes>"
      ]
     },
     "metadata": {
      "needs_background": "light"
     },
     "output_type": "display_data"
    }
   ],
   "source": [
    "from sklearn.metrics import confusion_matrix\n",
    "import seaborn as sns\n",
    "matrix = confusion_matrix(y_test, predictions.argmax(axis=1)) #Compute confusion matrix to evaluate the accuracy of a classification\n",
    "sns.heatmap(matrix,annot=True,fmt='d',yticklabels=labelNames,xticklabels=labelNames) #Plot confusion matrix as a heatmap\n",
    "plt.title('CNN Classification');"
   ]
  },
  {
   "cell_type": "code",
   "execution_count": 13,
   "metadata": {
    "id": "injRQz916DzK"
   },
   "outputs": [],
   "source": [
    "# model.save('/music_cnn.h5')"
   ]
  },
  {
   "cell_type": "code",
   "execution_count": 14,
   "metadata": {
    "id": "EHQuNfd-o8Dd"
   },
   "outputs": [],
   "source": [
    "# from google.colab import drive\n",
    "# drive.mount('/content/drive')"
   ]
  },
  {
   "cell_type": "code",
   "execution_count": 15,
   "metadata": {
    "id": "PUOCdsghoa-v"
   },
   "outputs": [],
   "source": [
    "\n",
    "tf.keras.models.save_model(\n",
    "    model=model,\n",
    "    filepath='sample_data/music_cnn.h5',\n",
    "    overwrite=True,\n",
    "    include_optimizer=True,\n",
    "    save_format='h5',\n",
    "    # signatures=None,\n",
    "    # options=None,\n",
    "    save_traces=True\n",
    ")\n"
   ]
  }
 ],
 "metadata": {
  "accelerator": "GPU",
  "colab": {
   "provenance": []
  },
  "gpuClass": "standard",
  "kernelspec": {
   "display_name": "Python 3 (ipykernel)",
   "language": "python",
   "name": "python3"
  },
  "language_info": {
   "codemirror_mode": {
    "name": "ipython",
    "version": 3
   },
   "file_extension": ".py",
   "mimetype": "text/x-python",
   "name": "python",
   "nbconvert_exporter": "python",
   "pygments_lexer": "ipython3",
   "version": "3.7.9"
  }
 },
 "nbformat": 4,
 "nbformat_minor": 1
}
